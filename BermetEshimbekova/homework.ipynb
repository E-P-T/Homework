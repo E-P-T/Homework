{
 "cells": [
  {
   "cell_type": "code",
   "execution_count": null,
   "id": "fec0674a-4a41-40c8-85f7-f13d94172949",
   "metadata": {},
   "outputs": [],
   "source": [
    "### Task 2.1\n",
    "# Write a Python program to calculate the length of a string without using the `len` function.\n",
    "string = 'Write a Python program to calculate the length of a string without using the `len` function.'\n",
    "length = 0\n",
    "for i in string: length += 1\n",
    "print(length)"
   ]
  },
  {
   "cell_type": "code",
   "execution_count": null,
   "id": "991b4ba6-d87f-417a-9c6e-16b2f95890e5",
   "metadata": {},
   "outputs": [],
   "source": [
    "### Task 2.2\n",
    "# Write a Python program to count the number of characters (character frequency) in a string (ignore case of letters).\n",
    "# Examples:\n",
    "# ```\n",
    "# Input: 'Oh, it is python' \n",
    "# Output: {',': 1, ' ': 3, 'o': 2, 'h': 2, 'i': 2, 't': 2, 's': 1, 'p': 1, 'y': 1, 'n': 1}\n",
    "# ```\n",
    "\n",
    "string = 'Oh, it is python'\n",
    "print('Input: \\'' + string + '\\'')\n",
    "string = string.lower()\n",
    "characters = set(string)\n",
    "output = {}\n",
    "for i in characters: output[i] = 0\n",
    "for i in string: output[i] += 1\n",
    "print('Output:', output)"
   ]
  },
  {
   "cell_type": "code",
   "execution_count": null,
   "id": "a18d5641-4335-4fe9-9764-10e4fc0a2da0",
   "metadata": {},
   "outputs": [],
   "source": [
    "### Task 2.3\n",
    "# Write a Python program that accepts a comma separated sequence of words as input and prints the unique words in sorted form.\n",
    "# Examples:\n",
    "# ```\n",
    "# Input: ['red', 'white', 'black', 'red', 'green', 'black']\n",
    "# Output: ['black', 'green', 'red', 'white', 'red']\n",
    "# ```\n",
    "\n",
    "mylist = ['red', 'white', 'black', 'red', 'green', 'black']\n",
    "print('Input: ', mylist)\n",
    "output = list(set(mylist))\n",
    "output.sort()\n",
    "print('Output:', output)"
   ]
  },
  {
   "cell_type": "code",
   "execution_count": null,
   "id": "0faa0726-dd0f-472e-8b36-0f30b6ff1f7f",
   "metadata": {},
   "outputs": [],
   "source": [
    "### Task 2.3\n",
    "# Create a program that asks the user for a number and then prints out a list of all the [divisors](https://en.wikipedia.org/wiki/Divisor) of that number.\n",
    "# Examples:\n",
    "# ```\n",
    "# Input: 60\n",
    "# Output: {1, 2, 3, 4, 5, 6, 10, 12, 15, 20, 30, 60}\n",
    "# ```\n",
    "\n",
    "number = int(input('Input: '))\n",
    "if number >= 1:\n",
    "    divisors = [1,number]\n",
    "    left = 2\n",
    "    right = number\n",
    "    while left < right:\n",
    "        if number % left == 0:\n",
    "            right = number//left\n",
    "            divisors.append(left)\n",
    "            divisors.append(right)\n",
    "        left += 1\n",
    "    divisors = list(set(divisors))\n",
    "    divisors.sort()\n",
    "    print(divisors)\n",
    "else:\n",
    "    print('Please enter natural number')"
   ]
  },
  {
   "cell_type": "code",
   "execution_count": null,
   "id": "1dd70129-439b-42ef-b0dc-c2fdbb454162",
   "metadata": {},
   "outputs": [],
   "source": [
    "### Task 2.4\n",
    "# Write a Python program to sort a dictionary by key.\n",
    "dictionary = {5:'abc', 2:'def', 9:'ghi', 1:'jkl'}\n",
    "for key in sorted(dictionary):\n",
    "    dictionary[key] = dictionary.pop(key)\n",
    "print(dictionary)"
   ]
  },
  {
   "cell_type": "code",
   "execution_count": null,
   "id": "d64cb3bb-be6e-4b99-9366-1eace163f936",
   "metadata": {},
   "outputs": [],
   "source": [
    "### Task 2.5\n",
    "# Write a Python program to print all unique values of all dictionaries in a list.\n",
    "# Examples:\n",
    "# ```\n",
    "# Input: [{\"V\":\"S001\"}, {\"V\": \"S002\"}, {\"VI\": \"S001\"}, {\"VI\": \"S005\"}, {\"VII\":\"S005\"}, {\"V\":\"S009\"},{\"VIII\":\"S007\"}]\n",
    "# Output: {'S005', 'S002', 'S007', 'S001', 'S009'}\n",
    "# ```\n",
    "\n",
    "dicts = [{\"V\":\"S001\"}, {\"V\": \"S002\"}, {\"VI\": \"S001\"}, {\"VI\": \"S005\"}, {\"VII\":\"S005\"}, {\"V\":\"S009\"},{\"VIII\":\"S007\"}]\n",
    "dict_values = []\n",
    "for i in dicts:\n",
    "    dict_values += list(i.values())\n",
    "print(set(dict_values))"
   ]
  },
  {
   "cell_type": "code",
   "execution_count": null,
   "id": "12da04d7-e1b8-4d61-a206-30b97ae38a12",
   "metadata": {},
   "outputs": [],
   "source": [
    "### Task 2.6\n",
    "# Write a Python program to convert a given tuple of positive integers into an integer. \n",
    "# Examples:\n",
    "# ```\n",
    "# Input: (1, 2, 3, 4)\n",
    "# Output: 1234\n",
    "# ```\n",
    "\n",
    "number = ''\n",
    "tuple = (1, 2, 3, 4)\n",
    "for i in tuple:\n",
    "    number += str(i)\n",
    "print(int(number))"
   ]
  },
  {
   "cell_type": "code",
   "execution_count": null,
   "id": "88c4d77f-f2e6-43a9-a4b6-e0393a0b926e",
   "metadata": {},
   "outputs": [],
   "source": [
    "### Task 2.7\n",
    "# Write a program which makes a pretty print of a part of the multiplication table.\n",
    "# Examples:\n",
    "# ```\n",
    "# Input:\n",
    "# a = 2\n",
    "# b = 4\n",
    "# c = 3\n",
    "# d = 7\n",
    "\n",
    "# Output:\n",
    "# \t3\t4\t5\t6\t7\t\n",
    "# 2\t6\t8\t10\t12\t14\t\n",
    "# 3\t9\t12\t15\t18\t21\t\n",
    "# 4\t12\t16\t20\t24\t28\n",
    "# ```\n",
    "\n",
    "a, b, c, d = int(input('a = ')), int(input('b = ')), int(input('c = ')), int(input('d = '))\n",
    "print(end = '\\t')\n",
    "for x in range(c, d + 1):\n",
    "        print(x, end = ' \\t')\n",
    "print()\n",
    "for y in range(a, b + 1):\n",
    "    print(y, end = '\\t')\n",
    "    for x in range(c, d + 1):\n",
    "        print(x * y, end = '\\t')\n",
    "    print()"
   ]
  },
  {
   "cell_type": "code",
   "execution_count": null,
   "id": "11a9ea7f-5903-48f5-abbc-c76f746c5cda",
   "metadata": {},
   "outputs": [],
   "source": []
  }
 ],
 "metadata": {
  "kernelspec": {
   "display_name": "Python 3 (ipykernel)",
   "language": "python",
   "name": "python3"
  },
  "language_info": {
   "codemirror_mode": {
    "name": "ipython",
    "version": 3
   },
   "file_extension": ".py",
   "mimetype": "text/x-python",
   "name": "python",
   "nbconvert_exporter": "python",
   "pygments_lexer": "ipython3",
   "version": "3.10.4"
  }
 },
 "nbformat": 4,
 "nbformat_minor": 5
}
