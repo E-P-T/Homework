{
 "cells": [
  {
   "cell_type": "code",
   "execution_count": 2,
   "id": "3559c1c1",
   "metadata": {},
   "outputs": [
    {
     "name": "stdout",
     "output_type": "stream",
     "text": [
      "Hello world\n"
     ]
    }
   ],
   "source": [
    "print('Hello world')"
   ]
  },
  {
   "cell_type": "code",
   "execution_count": 3,
   "id": "f9dc2f73",
   "metadata": {},
   "outputs": [
    {
     "ename": "SyntaxError",
     "evalue": "invalid syntax (2316594833.py, line 4)",
     "output_type": "error",
     "traceback": [
      "\u001b[1;36m  Input \u001b[1;32mIn [3]\u001b[1;36m\u001b[0m\n\u001b[1;33m    Write a Python program to calculate the length of a string without using the `len` function.\u001b[0m\n\u001b[1;37m          ^\u001b[0m\n\u001b[1;31mSyntaxError\u001b[0m\u001b[1;31m:\u001b[0m invalid syntax\n"
     ]
    }
   ],
   "source": [
    "# Python Practice - Session 2\n",
    "\n",
    "### Task 2.1\n",
    "Write a Python program to calculate the length of a string without using the `len` function.\n",
    "\n",
    "### Task 2.2\n",
    "Write a Python program to count the number of characters (character frequency) in a string (ignore case of letters).\n",
    "Examples:\n",
    "```\n",
    "Input: 'Oh, it is python' \n",
    "Output: {',': 1, ' ': 3, 'o': 2, 'h': 2, 'i': 2, 't': 2, 's': 1, 'p': 1, 'y': 1, 'n': 1}\n",
    "```\n",
    "\n",
    "### Task 2.3\n",
    "Write a Python program that accepts a comma separated sequence of words as input and prints the unique words in sorted form.\n",
    "Examples:\n",
    "```\n",
    "Input: ['red', 'white', 'black', 'red', 'green', 'black']\n",
    "Output: ['black', 'green', 'red', 'white', 'red']\n",
    "```\n",
    "\n",
    "### Task 2.3\n",
    "Create a program that asks the user for a number and then prints out a list of all the [divisors](https://en.wikipedia.org/wiki/Divisor) of that number.\n",
    "Examples:\n",
    "```\n",
    "Input: 60\n",
    "Output: {1, 2, 3, 4, 5, 6, 10, 12, 15, 20, 30, 60}\n",
    "```\n",
    "\n",
    "### Task 2.4\n",
    "Write a Python program to sort a dictionary by key.\n",
    "\n",
    "### Task 2.5\n",
    "Write a Python program to print all unique values of all dictionaries in a list.\n",
    "Examples:\n",
    "```\n",
    "Input: [{\"V\":\"S001\"}, {\"V\": \"S002\"}, {\"VI\": \"S001\"}, {\"VI\": \"S005\"}, {\"VII\":\"S005\"}, {\"V\":\"S009\"},{\"VIII\":\"S007\"}]\n",
    "Output: {'S005', 'S002', 'S007', 'S001', 'S009'}\n",
    "```\n",
    "\n",
    "### Task 2.6\n",
    "Write a Python program to convert a given tuple of positive integers into an integer. \n",
    "Examples:\n",
    "```\n",
    "Input: (1, 2, 3, 4)\n",
    "Output: 1234\n",
    "```\n",
    "\n",
    "\n",
    "### Task 2.7\n",
    "Write a program which makes a pretty print of a part of the multiplication table.\n",
    "Examples:\n",
    "```\n",
    "Input:\n",
    "a = 2\n",
    "b = 4\n",
    "c = 3\n",
    "d = 7\n",
    "\n",
    "Output:\n",
    "\t3\t4\t5\t6\t7\t\n",
    "2\t6\t8\t10\t12\t14\t\n",
    "3\t9\t12\t15\t18\t21\t\n",
    "4\t12\t16\t20\t24\t28\n",
    "```\n",
    "\n",
    "### Materials\n",
    "* [Python Data Types](https://realpython.com/python-data-types/)\n",
    "* [Python Data Structures](https://realpython.com/python-data-structures/)\n",
    "* [Conditional Statements](https://realpython.com/python-conditional-statements/)\n",
    "* [While loop](https://realpython.com/python-while-loop/)\n",
    "* [For loop](https://realpython.com/python-for-loop/)\n",
    "* [Operators](http://pythonicway.com/python-operators)"
   ]
  },
  {
   "cell_type": "code",
   "execution_count": 1,
   "id": "cc9daa59",
   "metadata": {},
   "outputs": [
    {
     "name": "stdout",
     "output_type": "stream",
     "text": [
      "Enter a string: bboom\n",
      "Length of the input string is: 5\n"
     ]
    }
   ],
   "source": [
    "### Task 2.1\n",
    "\n",
    "str = input(\"Enter a string: \")\n",
    "counter = 0\n",
    "for s in str:\n",
    "      counter = counter+1\n",
    "print(\"Length of the input string is:\", counter)"
   ]
  },
  {
   "cell_type": "code",
   "execution_count": 5,
   "id": "03962db5",
   "metadata": {},
   "outputs": [
    {
     "name": "stdout",
     "output_type": "stream",
     "text": [
      "Count of all characters in GeeksforGeeks is :\n",
      " {'b': 1}\n",
      "Count of all characters in GeeksforGeeks is :\n",
      " {'b': 1, 'o': 1}\n",
      "Count of all characters in GeeksforGeeks is :\n",
      " {'b': 1, 'o': 2, 'm': 1}\n"
     ]
    }
   ],
   "source": [
    "### Task 2.\n",
    "\n",
    "test_str='boomboom'\n",
    "all_freq = {}\n",
    "\n",
    "for i in test_str:\n",
    "    if i in all_freq:\n",
    "        all_freq[i] += 1\n",
    "    else:\n",
    "        all_freq[i] = 1\n",
    "        print (\"Count of all characters in GeeksforGeeks is :\\n \"\n",
    "                                        +  str(all_freq))"
   ]
  },
  {
   "cell_type": "code",
   "execution_count": 11,
   "id": "89f95b37",
   "metadata": {},
   "outputs": [
    {
     "name": "stdout",
     "output_type": "stream",
     "text": [
      "Input comma separated sequence of wordsred, white, black\n",
      " black, white,red\n"
     ]
    }
   ],
   "source": [
    "### Task 2.3\n",
    "items=input(\"Input comma separated sequence of words\")\n",
    "words=[word for word in items.split(\",\")]\n",
    "print(\",\".join(sorted(list(set(words)))))"
   ]
  },
  {
   "cell_type": "code",
   "execution_count": 14,
   "id": "cc79f083",
   "metadata": {},
   "outputs": [
    {
     "name": "stdout",
     "output_type": "stream",
     "text": [
      "Enter a number 60\n",
      "The numbers are [1, 2, 3, 4, 5, 6, 10, 12, 15, 20, 30, 60]\n"
     ]
    }
   ],
   "source": [
    "#Task 2.3.2\n",
    "number=int(input(\"Enter a number \"))\n",
    "divisor=[i for i in range(1, number+1) if number % i == 0]\n",
    "print (\"The numbers are\",divisor)"
   ]
  },
  {
   "cell_type": "code",
   "execution_count": 18,
   "id": "d8febbf7",
   "metadata": {},
   "outputs": [
    {
     "name": "stdout",
     "output_type": "stream",
     "text": [
      "black: #000000\n",
      "green: #008000\n",
      "red: #FF0000\n",
      "white: #FFFFFF\n"
     ]
    }
   ],
   "source": [
    "### Task 2.4 Write a Python program to sort a dictionary by key.\n",
    "color_dict = {'red':'#FF0000',\n",
    "          'green':'#008000',\n",
    "          'black':'#000000',\n",
    "          'white':'#FFFFFF'}\n",
    "\n",
    "for key in sorted(color_dict):\n",
    "    print(\"%s: %s\" % (key, color_dict[key]))"
   ]
  },
  {
   "cell_type": "code",
   "execution_count": 21,
   "id": "1ec32651",
   "metadata": {},
   "outputs": [
    {
     "name": "stdout",
     "output_type": "stream",
     "text": [
      "Original List:  [{'V': 'S001'}, {'V': 'S002'}, {'VI': 'S001'}, {'VI': 'S005'}, {'VII': 'S005'}, {'V': 'S009'}, {'VIII': 'S007'}]\n",
      "Unique Values:  {'S007', 'S001', 'S005', 'S009', 'S002'}\n"
     ]
    }
   ],
   "source": [
    "### Task 2.5 Write a Python program to print all unique values of all dictionaries in a list.\n",
    "L = [{\"V\":\"S001\"}, {\"V\": \"S002\"}, {\"VI\": \"S001\"}, {\"VI\": \"S005\"}, {\"VII\":\"S005\"}, {\"V\":\"S009\"},{\"VIII\":\"S007\"}]\n",
    "print(\"Original List: \",L)\n",
    "u_value = set( val for dic in L for val in dic.values())\n",
    "print(\"Unique Values: \",u_value)"
   ]
  },
  {
   "cell_type": "code",
   "execution_count": 1,
   "id": "b7a4b97e",
   "metadata": {},
   "outputs": [],
   "source": [
    "def print_unique(lst):\n",
    "    new_lst = list()\n",
    "    for item in lst:\n",
    "        for value in item.values():\n",
    "            if value not in new_lst:\n",
    "                new_lst.append(value)\n",
    "    print(new_lst)"
   ]
  },
  {
   "cell_type": "code",
   "execution_count": 4,
   "id": "925b0454",
   "metadata": {},
   "outputs": [
    {
     "data": {
      "text/plain": [
       "(1, 2, 3, 4)"
      ]
     },
     "execution_count": 4,
     "metadata": {},
     "output_type": "execute_result"
    }
   ],
   "source": [
    "tpl=(1,2,3,4)\n",
    "def convert_tuple_to_int(tpl):\n",
    "    num = 0\n",
    "    for item in tpl:\n",
    "        num = num * 10 + item\n",
    "    return num\n",
    "tpl"
   ]
  },
  {
   "cell_type": "code",
   "execution_count": 5,
   "id": "cce7d020",
   "metadata": {},
   "outputs": [],
   "source": [
    "def multiplication_table(lst_of_numbers):\n",
    "    lst_of_numbers.sort()\n",
    "    print('', end='\\t')\n",
    "    for n in lst_of_numbers:\n",
    "        print(n, end='\\t')\n",
    "    print('')\n",
    "    for n in lst_of_numbers:\n",
    "        print(n, end='\\t')\n",
    "        for nb in lst_of_numbers:\n",
    "            print(n * nb, end='\\t')\n",
    "        print('')"
   ]
  },
  {
   "cell_type": "code",
   "execution_count": null,
   "id": "24cb57e8",
   "metadata": {},
   "outputs": [],
   "source": []
  },
  {
   "cell_type": "code",
   "execution_count": null,
   "id": "2fd83bf2",
   "metadata": {},
   "outputs": [],
   "source": []
  }
 ],
 "metadata": {
  "kernelspec": {
   "display_name": "Python 3 (ipykernel)",
   "language": "python",
   "name": "python3"
  },
  "language_info": {
   "codemirror_mode": {
    "name": "ipython",
    "version": 3
   },
   "file_extension": ".py",
   "mimetype": "text/x-python",
   "name": "python",
   "nbconvert_exporter": "python",
   "pygments_lexer": "ipython3",
   "version": "3.10.4"
  }
 },
 "nbformat": 4,
 "nbformat_minor": 5
}
