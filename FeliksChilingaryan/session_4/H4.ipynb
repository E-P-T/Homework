{
 "cells": [
  {
   "cell_type": "code",
   "execution_count": 2,
   "id": "ba516a6f",
   "metadata": {},
   "outputs": [
    {
     "name": "stdout",
     "output_type": "stream",
     "text": [
      "\"test\" it or test 'this'\n"
     ]
    }
   ],
   "source": [
    "#Session_4_homework\n",
    "#Task 4.1 \n",
    "#Implement a function which receives a string and replaces all `\"` symbols with `'` and vise versa.\n",
    "\n",
    "input = \"'test' it or test \\\"this\\\"\"\n",
    "\n",
    "tmp_idx = [pos for pos, char in enumerate(input) if char == \"'\"]\n",
    "\n",
    "result = list(input.replace(\"\\\"\", \"'\"))\n",
    "for idx in tmp_idx:\n",
    "    result[idx] = \"\\\"\"\n",
    "result = \"\".join(result)\n",
    "\n",
    "print(result)"
   ]
  },
  {
   "cell_type": "code",
   "execution_count": 11,
   "id": "64fef566",
   "metadata": {},
   "outputs": [
    {
     "name": "stdout",
     "output_type": "stream",
     "text": [
      "No\n"
     ]
    }
   ],
   "source": [
    "#Task 4.2\n",
    "#Write a function that check whether a string is a palindrome or not.\n",
    "#Usage of any reversing functions is prohibited. To check your implementation you can use strings from\n",
    "#[here](https://en.wikipedia.org/wiki/Palindrome#Famous_palindromes).\n",
    "\n",
    "def check(s):\n",
    "    return s == s[::-1]\n",
    "s=\"gecko\"\n",
    "ans = check(s)\n",
    "\n",
    "if ans:\n",
    "    print(\"Yes!\")\n",
    "else:\n",
    "    print(\"No\") "
   ]
  },
  {
   "cell_type": "code",
   "execution_count": 16,
   "id": "96707e49",
   "metadata": {},
   "outputs": [
    {
     "name": "stdout",
     "output_type": "stream",
     "text": [
      "['', '', '', 'e']\n"
     ]
    }
   ],
   "source": [
    "#Task 4.3\n",
    "#Implement a function which works the same as `str.split` method\n",
    "#(without using `str.split` itself, ofcourse).\n",
    "\n",
    "values = 'This is a sentence'\n",
    "split_values = []\n",
    "tmp = ''\n",
    "for words in values:\n",
    "    if words == ' ':\n",
    "        split_values.append(tmp)\n",
    "    tmp = ''\n",
    "else:\n",
    "    tmp += words\n",
    "if tmp:\n",
    "    split_values.append(tmp)\n",
    "    print(split_values)"
   ]
  },
  {
   "cell_type": "code",
   "execution_count": 19,
   "id": "d9e3379c",
   "metadata": {},
   "outputs": [
    {
     "name": "stdout",
     "output_type": "stream",
     "text": [
      "['long ', 'string ', 'that ', 'I want to split up']\n"
     ]
    }
   ],
   "source": [
    "#Task 4.4\n",
    "#Implement a function `split_by_index(s: str, indexes: List[int]) -> List[str]`\n",
    "#which splits the `s` string by indexes specified in `indexes`. Wrong indexes\n",
    "#must be ignored.\n",
    "\n",
    "s = 'long string that I want to split up'\n",
    "indices = [0,5,12,17]\n",
    "parts = [s[i:j] for i,j in zip(indices, indices[1:]+[None])]\n",
    "print(parts)"
   ]
  },
  {
   "cell_type": "code",
   "execution_count": 11,
   "id": "faa6e423",
   "metadata": {},
   "outputs": [],
   "source": [
    "#Task 4.5\n",
    "#Implement a function `get_digits(num: int) -> Tuple[int]` which returns a tuple\n",
    "#of a given integer's digits.\n",
    "def get_digits(num: int) -> tuple:\n",
    "    digits = list()\n",
    "    sign = 1\n",
    "    if num == 0:\n",
    "        digits.append(0)\n",
    "    if num < 0:\n",
    "        num = - num\n",
    "        sign = -1\n",
    "    while num > 0:\n",
    "        digits.append(num % 10)\n",
    "        num = num // 10\n",
    "    if sign == -1:\n",
    "        digits.append('-')\n",
    "    digits.reverse()\n",
    "    return tuple(digits)"
   ]
  },
  {
   "cell_type": "code",
   "execution_count": 14,
   "id": "c9608a37",
   "metadata": {},
   "outputs": [],
   "source": [
    "### Task 4.6\n",
    "#Implement a function `get_shortest_word(s: str) -> str` which returns the\n",
    "#longest word in the given string. The word can contain any symbols except\n",
    "#whitespaces (` `, `\\n`, `\\t` and so on). If there are multiple longest words in\n",
    "#the string with a same length return the word that occures first.\n",
    "def get_shortest_word(s: str) -> str:\n",
    "    s.replace('\\t', ' ')\n",
    "    s.replace('\\n', ' ')\n",
    "    s.replace('\\v', ' ')\n",
    "    s.replace('\\f', ' ')\n",
    "    s.replace('\\r', ' ')\n",
    "    words = s.split()\n",
    "    words.sort(key=len)\n",
    "    words.reverse()\n",
    "    if len(words) == 1:\n",
    "        return words[0]\n",
    "    for i in range(len(words)):\n",
    "        if len(words[i+1]) < len(words[i]):\n",
    "            return words[i]"
   ]
  },
  {
   "cell_type": "code",
   "execution_count": 18,
   "id": "628c9d61",
   "metadata": {},
   "outputs": [],
   "source": [
    "#Task 4.7 Implement a function `foo(List[int]) -> List[int]` which, given a list of\n",
    "#integers, return a new list such that each element at index `i` of the new list\n",
    "int_lst=(1,2,3,4)\n",
    "#is the product of all the numbers in the original array except the one at `i`.\n",
    "def foo(int_lst:list)->list:\n",
    "    new_lst=list()\n",
    "    for i in range(len(int_lst)):\n",
    "        if i!=j:\n",
    "            prod=prod*int_lst[j]\n",
    "            new_lst.append(prod)\n",
    "            return new_lst"
   ]
  },
  {
   "cell_type": "code",
   "execution_count": 3,
   "id": "8ec2d555",
   "metadata": {},
   "outputs": [
    {
     "name": "stdout",
     "output_type": "stream",
     "text": [
      "Set list: have to need\n"
     ]
    }
   ],
   "source": [
    "### Task 4.8\n",
    "#Implement a function `get_pairs(lst: List) -> List[Tuple]` which returns a list\n",
    "#of tuples containing pairs of elements. Pairs should be formed as in the\n",
    "#example. If there is only one element in the list return `None` instead.\n",
    "list = input(\"Set list: \")\n",
    "\n",
    "def get_pairs(lst: list) -> list:\n",
    "    new_lst = list()\n",
    "    if len(lst) < 2:\n",
    "        return None\n",
    "    for i in range(len(lst) - 1):\n",
    "        new_lst.append((lst[i], lst[i+1]))\n",
    "    return new_lst"
   ]
  },
  {
   "cell_type": "code",
   "execution_count": 4,
   "id": "d6d9c5d0",
   "metadata": {},
   "outputs": [],
   "source": [
    "### Task 4.9\n",
    "#Implement a bunch of functions which receive a changeable number of strings and return next parameters:\n",
    "#1) characters that appear in all strings\n",
    "#2) characters that appear in at least one string\n",
    "#3) characters that appear at least in two strings\n",
    "#4) characters of alphabet, that were not used in any string\n",
    "#Note: use `string.ascii_lowercase` for list of alphabet letters\n",
    "def test_1_1(*strings):\n",
    "    lst = list()\n",
    "    for char in 'abcdefghijklmnopqrstuvwxyz':\n",
    "        flag = 1\n",
    "        for string in strings:\n",
    "            if char not in string:\n",
    "                flag = 0\n",
    "        if flag == 1:\n",
    "            lst.append(char)\n",
    "    return lst"
   ]
  },
  {
   "cell_type": "code",
   "execution_count": 6,
   "id": "1aa19502",
   "metadata": {},
   "outputs": [
    {
     "name": "stdout",
     "output_type": "stream",
     "text": [
      "1 \t 1\n",
      "2 \t 4\n",
      "3 \t 9\n",
      "4 \t 16\n",
      "5 \t 25\n"
     ]
    }
   ],
   "source": [
    "### Task 4.10\n",
    "#Implement a function that takes a number as an argument and returns a dictionary, where the key is a number and the value is the square of that number.\n",
    "#print(generate_squares(5))\n",
    "#{1: 1, 2: 4, 3: 9, 4: 16, 5: 25}\n",
    "n = 1 \n",
    "while n <= 5:\n",
    "    print (n, '\\t', n ** 2)\n",
    "    n += 1"
   ]
  },
  {
   "cell_type": "markdown",
   "id": "55af381b",
   "metadata": {},
   "source": [
    "# Task 4.11\n",
    "Implement a function, that receives changeable number of dictionaries (keys - letters, values - numbers) and combines them into one dictionary.\n",
    "Dict values ​​should be summarized in case of identical keys\n",
    "\n",
    "```python\n",
    "def Merge(dict1, dict2):\n",
    "    return(dict2.update(dict1))\n",
    "     \n",
    "# Driver code\n",
    "dict1 = {'a': 10, 'b': 8}\n",
    "dict2 = {'d': 6, 'c': 4}\n",
    " \n",
    "# This return None\n",
    "print(Merge(dict1, dict2))\n",
    " \n",
    "# changes made in dict2\n",
    "print(dict2)"
   ]
  },
  {
   "cell_type": "code",
   "execution_count": 16,
   "id": "265e789b",
   "metadata": {},
   "outputs": [
    {
     "name": "stdout",
     "output_type": "stream",
     "text": [
      "{'x': 10, 'y': 8, 'a': 6, 'b': 4}\n"
     ]
    }
   ],
   "source": [
    "def Merge(dict1, dict2):\n",
    "    res = dict1 | dict2\n",
    "    return res\n",
    "       \n",
    "# Driver code\n",
    "dict1 = {'x': 10, 'y': 8}\n",
    "dict2 = {'a': 6, 'b': 4}\n",
    "dict3 = Merge(dict1, dict2)\n",
    "print(dict3)"
   ]
  },
  {
   "cell_type": "code",
   "execution_count": null,
   "id": "83ad6cdb",
   "metadata": {},
   "outputs": [],
   "source": []
  }
 ],
 "metadata": {
  "kernelspec": {
   "display_name": "Python 3 (ipykernel)",
   "language": "python",
   "name": "python3"
  },
  "language_info": {
   "codemirror_mode": {
    "name": "ipython",
    "version": 3
   },
   "file_extension": ".py",
   "mimetype": "text/x-python",
   "name": "python",
   "nbconvert_exporter": "python",
   "pygments_lexer": "ipython3",
   "version": "3.10.4"
  }
 },
 "nbformat": 4,
 "nbformat_minor": 5
}
